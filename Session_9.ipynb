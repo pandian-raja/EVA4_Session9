{
  "nbformat": 4,
  "nbformat_minor": 0,
  "metadata": {
    "colab": {
      "name": "Session_9.ipynb",
      "provenance": [],
      "collapsed_sections": [],
      "include_colab_link": true
    },
    "kernelspec": {
      "name": "python3",
      "display_name": "Python 3"
    },
    "accelerator": "GPU"
  },
  "cells": [
    {
      "cell_type": "markdown",
      "metadata": {
        "id": "view-in-github",
        "colab_type": "text"
      },
      "source": [
        "<a href=\"https://colab.research.google.com/github/pandian-raja/EVA4_Session9/blob/master/Session_9.ipynb\" target=\"_parent\"><img src=\"https://colab.research.google.com/assets/colab-badge.svg\" alt=\"Open In Colab\"/></a>"
      ]
    },
    {
      "cell_type": "code",
      "metadata": {
        "id": "PtDX-AT6Xhh3",
        "colab_type": "code",
        "outputId": "6977f3be-ad9f-489e-8dd2-a6b09196db98",
        "colab": {
          "base_uri": "https://localhost:8080/",
          "height": 544
        }
      },
      "source": [
        "!pip install albumentations\n",
        "!pip install torchsummary\n",
        "from torchsummary import summary\n",
        "import numpy as np\n"
      ],
      "execution_count": 1,
      "outputs": [
        {
          "output_type": "stream",
          "text": [
            "Requirement already satisfied: albumentations in /usr/local/lib/python3.6/dist-packages (0.1.12)\n",
            "Requirement already satisfied: numpy>=1.11.1 in /usr/local/lib/python3.6/dist-packages (from albumentations) (1.18.1)\n",
            "Requirement already satisfied: opencv-python in /usr/local/lib/python3.6/dist-packages (from albumentations) (4.1.2.30)\n",
            "Collecting imgaug<0.2.7,>=0.2.5\n",
            "\u001b[?25l  Downloading https://files.pythonhosted.org/packages/ad/2e/748dbb7bb52ec8667098bae9b585f448569ae520031932687761165419a2/imgaug-0.2.6.tar.gz (631kB)\n",
            "\u001b[K     |████████████████████████████████| 634kB 3.5MB/s \n",
            "\u001b[?25hRequirement already satisfied: scipy in /usr/local/lib/python3.6/dist-packages (from albumentations) (1.4.1)\n",
            "Requirement already satisfied: scikit-image>=0.11.0 in /usr/local/lib/python3.6/dist-packages (from imgaug<0.2.7,>=0.2.5->albumentations) (0.16.2)\n",
            "Requirement already satisfied: six in /usr/local/lib/python3.6/dist-packages (from imgaug<0.2.7,>=0.2.5->albumentations) (1.12.0)\n",
            "Requirement already satisfied: networkx>=2.0 in /usr/local/lib/python3.6/dist-packages (from scikit-image>=0.11.0->imgaug<0.2.7,>=0.2.5->albumentations) (2.4)\n",
            "Requirement already satisfied: PyWavelets>=0.4.0 in /usr/local/lib/python3.6/dist-packages (from scikit-image>=0.11.0->imgaug<0.2.7,>=0.2.5->albumentations) (1.1.1)\n",
            "Requirement already satisfied: matplotlib!=3.0.0,>=2.0.0 in /usr/local/lib/python3.6/dist-packages (from scikit-image>=0.11.0->imgaug<0.2.7,>=0.2.5->albumentations) (3.2.0)\n",
            "Requirement already satisfied: pillow>=4.3.0 in /usr/local/lib/python3.6/dist-packages (from scikit-image>=0.11.0->imgaug<0.2.7,>=0.2.5->albumentations) (7.0.0)\n",
            "Requirement already satisfied: imageio>=2.3.0 in /usr/local/lib/python3.6/dist-packages (from scikit-image>=0.11.0->imgaug<0.2.7,>=0.2.5->albumentations) (2.4.1)\n",
            "Requirement already satisfied: decorator>=4.3.0 in /usr/local/lib/python3.6/dist-packages (from networkx>=2.0->scikit-image>=0.11.0->imgaug<0.2.7,>=0.2.5->albumentations) (4.4.2)\n",
            "Requirement already satisfied: cycler>=0.10 in /usr/local/lib/python3.6/dist-packages (from matplotlib!=3.0.0,>=2.0.0->scikit-image>=0.11.0->imgaug<0.2.7,>=0.2.5->albumentations) (0.10.0)\n",
            "Requirement already satisfied: python-dateutil>=2.1 in /usr/local/lib/python3.6/dist-packages (from matplotlib!=3.0.0,>=2.0.0->scikit-image>=0.11.0->imgaug<0.2.7,>=0.2.5->albumentations) (2.8.1)\n",
            "Requirement already satisfied: pyparsing!=2.0.4,!=2.1.2,!=2.1.6,>=2.0.1 in /usr/local/lib/python3.6/dist-packages (from matplotlib!=3.0.0,>=2.0.0->scikit-image>=0.11.0->imgaug<0.2.7,>=0.2.5->albumentations) (2.4.6)\n",
            "Requirement already satisfied: kiwisolver>=1.0.1 in /usr/local/lib/python3.6/dist-packages (from matplotlib!=3.0.0,>=2.0.0->scikit-image>=0.11.0->imgaug<0.2.7,>=0.2.5->albumentations) (1.1.0)\n",
            "Requirement already satisfied: setuptools in /usr/local/lib/python3.6/dist-packages (from kiwisolver>=1.0.1->matplotlib!=3.0.0,>=2.0.0->scikit-image>=0.11.0->imgaug<0.2.7,>=0.2.5->albumentations) (45.2.0)\n",
            "Building wheels for collected packages: imgaug\n",
            "  Building wheel for imgaug (setup.py) ... \u001b[?25l\u001b[?25hdone\n",
            "  Created wheel for imgaug: filename=imgaug-0.2.6-cp36-none-any.whl size=654020 sha256=db1d9b6909ab3af793f54d14dc50f3f6fc79585bbad3b02a0c2fae0cc880a2a9\n",
            "  Stored in directory: /root/.cache/pip/wheels/97/ec/48/0d25896c417b715af6236dbcef8f0bed136a1a5e52972fc6d0\n",
            "Successfully built imgaug\n",
            "Installing collected packages: imgaug\n",
            "  Found existing installation: imgaug 0.2.9\n",
            "    Uninstalling imgaug-0.2.9:\n",
            "      Successfully uninstalled imgaug-0.2.9\n",
            "Successfully installed imgaug-0.2.6\n",
            "Requirement already satisfied: torchsummary in /usr/local/lib/python3.6/dist-packages (1.5.1)\n"
          ],
          "name": "stdout"
        }
      ]
    },
    {
      "cell_type": "code",
      "metadata": {
        "id": "iy7xB6pZambo",
        "colab_type": "code",
        "outputId": "e55df8cb-9fa6-42c9-a598-2532405d8e28",
        "colab": {
          "base_uri": "https://localhost:8080/",
          "height": 204
        }
      },
      "source": [
        "!wget https://raw.githubusercontent.com/pandian-raja/EVA4_Session8/master/resnet.py"
      ],
      "execution_count": 4,
      "outputs": [
        {
          "output_type": "stream",
          "text": [
            "--2020-03-17 22:37:03--  https://raw.githubusercontent.com/pandian-raja/EVA4_Session8/master/resnet.py\n",
            "Resolving raw.githubusercontent.com (raw.githubusercontent.com)... 151.101.0.133, 151.101.64.133, 151.101.128.133, ...\n",
            "Connecting to raw.githubusercontent.com (raw.githubusercontent.com)|151.101.0.133|:443... connected.\n",
            "HTTP request sent, awaiting response... 200 OK\n",
            "Length: 4005 (3.9K) [text/plain]\n",
            "Saving to: ‘resnet.py’\n",
            "\n",
            "resnet.py           100%[===================>]   3.91K  --.-KB/s    in 0s      \n",
            "\n",
            "2020-03-17 22:37:04 (63.3 MB/s) - ‘resnet.py’ saved [4005/4005]\n",
            "\n"
          ],
          "name": "stdout"
        }
      ]
    },
    {
      "cell_type": "code",
      "metadata": {
        "id": "8SM8XVZDaoRy",
        "colab_type": "code",
        "outputId": "b15b9822-f3dc-44a1-b31d-b7ef7407e6b5",
        "colab": {
          "base_uri": "https://localhost:8080/",
          "height": 204
        }
      },
      "source": [
        "!wget https://raw.githubusercontent.com/pandian-raja/EVA4_Session7/master/train_and_validate.py"
      ],
      "execution_count": 5,
      "outputs": [
        {
          "output_type": "stream",
          "text": [
            "--2020-03-17 22:37:04--  https://raw.githubusercontent.com/pandian-raja/EVA4_Session7/master/train_and_validate.py\n",
            "Resolving raw.githubusercontent.com (raw.githubusercontent.com)... 151.101.0.133, 151.101.64.133, 151.101.128.133, ...\n",
            "Connecting to raw.githubusercontent.com (raw.githubusercontent.com)|151.101.0.133|:443... connected.\n",
            "HTTP request sent, awaiting response... 200 OK\n",
            "Length: 2734 (2.7K) [text/plain]\n",
            "Saving to: ‘train_and_validate.py’\n",
            "\n",
            "\rtrain_and_validate.   0%[                    ]       0  --.-KB/s               \rtrain_and_validate. 100%[===================>]   2.67K  --.-KB/s    in 0s      \n",
            "\n",
            "2020-03-17 22:37:05 (57.5 MB/s) - ‘train_and_validate.py’ saved [2734/2734]\n",
            "\n"
          ],
          "name": "stdout"
        }
      ]
    },
    {
      "cell_type": "code",
      "metadata": {
        "id": "4m0R377Gp7Dz",
        "colab_type": "code",
        "colab": {
          "base_uri": "https://localhost:8080/",
          "height": 204
        },
        "outputId": "93c37dcf-12cd-427b-f93c-292fc17d5de3"
      },
      "source": [
        "!wget https://raw.githubusercontent.com/pandian-raja/EVA4_Session9/master/GetData.py"
      ],
      "execution_count": 13,
      "outputs": [
        {
          "output_type": "stream",
          "text": [
            "--2020-03-17 22:40:34--  https://raw.githubusercontent.com/pandian-raja/EVA4_Session9/master/GetData.py\n",
            "Resolving raw.githubusercontent.com (raw.githubusercontent.com)... 151.101.0.133, 151.101.64.133, 151.101.128.133, ...\n",
            "Connecting to raw.githubusercontent.com (raw.githubusercontent.com)|151.101.0.133|:443... connected.\n",
            "HTTP request sent, awaiting response... 200 OK\n",
            "Length: 3234 (3.2K) [text/plain]\n",
            "Saving to: ‘GetData.py’\n",
            "\n",
            "\rGetData.py            0%[                    ]       0  --.-KB/s               \rGetData.py          100%[===================>]   3.16K  --.-KB/s    in 0s      \n",
            "\n",
            "2020-03-17 22:40:34 (98.2 MB/s) - ‘GetData.py’ saved [3234/3234]\n",
            "\n"
          ],
          "name": "stdout"
        }
      ]
    },
    {
      "cell_type": "code",
      "metadata": {
        "id": "8lu7he0BauZ3",
        "colab_type": "code",
        "colab": {}
      },
      "source": [
        "import resnet as rs\n",
        "import train_and_validate as tv\n",
        "import GetData as gd"
      ],
      "execution_count": 0,
      "outputs": []
    },
    {
      "cell_type": "code",
      "metadata": {
        "id": "ziOW7tPVpSe8",
        "colab_type": "code",
        "colab": {
          "base_uri": "https://localhost:8080/",
          "height": 68
        },
        "outputId": "70e9831f-19c4-4723-8354-66cd4c764d21"
      },
      "source": [
        "trainloader, testloader, classes, device = gd.GetData.importDataset()\n"
      ],
      "execution_count": 16,
      "outputs": [
        {
          "output_type": "stream",
          "text": [
            "CUDA Available? True\n",
            "Files already downloaded and verified\n",
            "Files already downloaded and verified\n"
          ],
          "name": "stdout"
        }
      ]
    },
    {
      "cell_type": "code",
      "metadata": {
        "id": "fXKHjinaYHPf",
        "colab_type": "code",
        "colab": {}
      },
      "source": [
        "model = rs.ResNet18().to(device);\n"
      ],
      "execution_count": 0,
      "outputs": []
    },
    {
      "cell_type": "code",
      "metadata": {
        "id": "Iw_AZLUlYJVV",
        "colab_type": "code",
        "outputId": "fe391c7b-b318-4dfc-e245-665dae442146",
        "colab": {
          "base_uri": "https://localhost:8080/",
          "height": 1000
        }
      },
      "source": [
        "summary(model, input_size=(3, 32, 32))\n"
      ],
      "execution_count": 18,
      "outputs": [
        {
          "output_type": "stream",
          "text": [
            "----------------------------------------------------------------\n",
            "        Layer (type)               Output Shape         Param #\n",
            "================================================================\n",
            "            Conv2d-1           [-1, 64, 32, 32]           1,728\n",
            "       BatchNorm2d-2           [-1, 64, 32, 32]             128\n",
            "            Conv2d-3           [-1, 64, 32, 32]          36,864\n",
            "       BatchNorm2d-4           [-1, 64, 32, 32]             128\n",
            "            Conv2d-5           [-1, 64, 32, 32]          36,864\n",
            "       BatchNorm2d-6           [-1, 64, 32, 32]             128\n",
            "        BasicBlock-7           [-1, 64, 32, 32]               0\n",
            "            Conv2d-8           [-1, 64, 32, 32]          36,864\n",
            "       BatchNorm2d-9           [-1, 64, 32, 32]             128\n",
            "           Conv2d-10           [-1, 64, 32, 32]          36,864\n",
            "      BatchNorm2d-11           [-1, 64, 32, 32]             128\n",
            "       BasicBlock-12           [-1, 64, 32, 32]               0\n",
            "           Conv2d-13          [-1, 128, 16, 16]          73,728\n",
            "      BatchNorm2d-14          [-1, 128, 16, 16]             256\n",
            "           Conv2d-15          [-1, 128, 16, 16]         147,456\n",
            "      BatchNorm2d-16          [-1, 128, 16, 16]             256\n",
            "           Conv2d-17          [-1, 128, 16, 16]           8,192\n",
            "      BatchNorm2d-18          [-1, 128, 16, 16]             256\n",
            "       BasicBlock-19          [-1, 128, 16, 16]               0\n",
            "           Conv2d-20          [-1, 128, 16, 16]         147,456\n",
            "      BatchNorm2d-21          [-1, 128, 16, 16]             256\n",
            "           Conv2d-22          [-1, 128, 16, 16]         147,456\n",
            "      BatchNorm2d-23          [-1, 128, 16, 16]             256\n",
            "       BasicBlock-24          [-1, 128, 16, 16]               0\n",
            "           Conv2d-25            [-1, 256, 8, 8]         294,912\n",
            "      BatchNorm2d-26            [-1, 256, 8, 8]             512\n",
            "           Conv2d-27            [-1, 256, 8, 8]         589,824\n",
            "      BatchNorm2d-28            [-1, 256, 8, 8]             512\n",
            "           Conv2d-29            [-1, 256, 8, 8]          32,768\n",
            "      BatchNorm2d-30            [-1, 256, 8, 8]             512\n",
            "       BasicBlock-31            [-1, 256, 8, 8]               0\n",
            "           Conv2d-32            [-1, 256, 8, 8]         589,824\n",
            "      BatchNorm2d-33            [-1, 256, 8, 8]             512\n",
            "           Conv2d-34            [-1, 256, 8, 8]         589,824\n",
            "      BatchNorm2d-35            [-1, 256, 8, 8]             512\n",
            "       BasicBlock-36            [-1, 256, 8, 8]               0\n",
            "           Conv2d-37            [-1, 512, 4, 4]       1,179,648\n",
            "      BatchNorm2d-38            [-1, 512, 4, 4]           1,024\n",
            "           Conv2d-39            [-1, 512, 4, 4]       2,359,296\n",
            "      BatchNorm2d-40            [-1, 512, 4, 4]           1,024\n",
            "           Conv2d-41            [-1, 512, 4, 4]         131,072\n",
            "      BatchNorm2d-42            [-1, 512, 4, 4]           1,024\n",
            "       BasicBlock-43            [-1, 512, 4, 4]               0\n",
            "           Conv2d-44            [-1, 512, 4, 4]       2,359,296\n",
            "      BatchNorm2d-45            [-1, 512, 4, 4]           1,024\n",
            "           Conv2d-46            [-1, 512, 4, 4]       2,359,296\n",
            "      BatchNorm2d-47            [-1, 512, 4, 4]           1,024\n",
            "       BasicBlock-48            [-1, 512, 4, 4]               0\n",
            "           Linear-49                   [-1, 10]           5,130\n",
            "================================================================\n",
            "Total params: 11,173,962\n",
            "Trainable params: 11,173,962\n",
            "Non-trainable params: 0\n",
            "----------------------------------------------------------------\n",
            "Input size (MB): 0.01\n",
            "Forward/backward pass size (MB): 11.25\n",
            "Params size (MB): 42.63\n",
            "Estimated Total Size (MB): 53.89\n",
            "----------------------------------------------------------------\n"
          ],
          "name": "stdout"
        }
      ]
    },
    {
      "cell_type": "code",
      "metadata": {
        "id": "qcKMFFH-b2PM",
        "colab_type": "code",
        "outputId": "ed1f43d8-1584-4248-9555-5d72de842044",
        "colab": {
          "base_uri": "https://localhost:8080/",
          "height": 1000
        }
      },
      "source": [
        "model = tv.train_and_validate.train(trainloader,device,model,20)\n"
      ],
      "execution_count": 0,
      "outputs": [
        {
          "output_type": "stream",
          "text": [
            "[1,  2000] loss: 2.086\n",
            "[1,  4000] loss: 1.838\n",
            "[1,  6000] loss: 1.687\n",
            "[1,  8000] loss: 1.557\n",
            "[1, 10000] loss: 1.482\n",
            "[1, 12000] loss: 1.377\n",
            "[2,  2000] loss: 1.246\n",
            "[2,  4000] loss: 1.222\n",
            "[2,  6000] loss: 1.202\n",
            "[2,  8000] loss: 1.143\n",
            "[2, 10000] loss: 1.101\n",
            "[2, 12000] loss: 1.088\n",
            "[3,  2000] loss: 1.017\n",
            "[3,  4000] loss: 1.003\n",
            "[3,  6000] loss: 0.966\n",
            "[3,  8000] loss: 0.971\n",
            "[3, 10000] loss: 0.931\n",
            "[3, 12000] loss: 0.923\n",
            "[4,  2000] loss: 0.867\n",
            "[4,  4000] loss: 0.878\n",
            "[4,  6000] loss: 0.852\n",
            "[4,  8000] loss: 0.865\n",
            "[4, 10000] loss: 0.839\n",
            "[4, 12000] loss: 0.823\n",
            "[5,  2000] loss: 0.786\n",
            "[5,  4000] loss: 0.776\n",
            "[5,  6000] loss: 0.778\n",
            "[5,  8000] loss: 0.757\n",
            "[5, 10000] loss: 0.735\n",
            "[5, 12000] loss: 0.747\n",
            "[6,  2000] loss: 0.719\n",
            "[6,  4000] loss: 0.707\n",
            "[6,  6000] loss: 0.702\n",
            "[6,  8000] loss: 0.677\n",
            "[6, 10000] loss: 0.690\n",
            "[6, 12000] loss: 0.695\n",
            "[7,  2000] loss: 0.645\n",
            "[7,  4000] loss: 0.661\n",
            "[7,  6000] loss: 0.658\n",
            "[7,  8000] loss: 0.634\n",
            "[7, 10000] loss: 0.654\n",
            "[7, 12000] loss: 0.629\n",
            "[8,  2000] loss: 0.613\n",
            "[8,  4000] loss: 0.590\n",
            "[8,  6000] loss: 0.620\n",
            "[8,  8000] loss: 0.605\n",
            "[8, 10000] loss: 0.582\n",
            "[8, 12000] loss: 0.597\n",
            "[9,  2000] loss: 0.555\n",
            "[9,  4000] loss: 0.555\n",
            "[9,  6000] loss: 0.568\n",
            "[9,  8000] loss: 0.550\n",
            "[9, 10000] loss: 0.553\n",
            "[9, 12000] loss: 0.562\n",
            "[10,  2000] loss: 0.514\n",
            "[10,  4000] loss: 0.508\n",
            "[10,  6000] loss: 0.529\n",
            "[10,  8000] loss: 0.532\n",
            "[10, 10000] loss: 0.526\n",
            "[10, 12000] loss: 0.523\n",
            "[11,  2000] loss: 0.494\n",
            "[11,  4000] loss: 0.477\n",
            "[11,  6000] loss: 0.490\n",
            "[11,  8000] loss: 0.486\n",
            "[11, 10000] loss: 0.495\n",
            "[11, 12000] loss: 0.512\n",
            "[12,  2000] loss: 0.453\n",
            "[12,  4000] loss: 0.470\n",
            "[12,  6000] loss: 0.467\n",
            "[12,  8000] loss: 0.457\n",
            "[12, 10000] loss: 0.474\n",
            "[12, 12000] loss: 0.460\n",
            "[13,  2000] loss: 0.422\n",
            "[13,  4000] loss: 0.430\n",
            "[13,  6000] loss: 0.451\n",
            "[13,  8000] loss: 0.424\n",
            "[13, 10000] loss: 0.458\n",
            "[13, 12000] loss: 0.452\n",
            "[14,  2000] loss: 0.411\n",
            "[14,  4000] loss: 0.407\n",
            "[14,  6000] loss: 0.407\n",
            "[14,  8000] loss: 0.412\n",
            "[14, 10000] loss: 0.407\n",
            "[14, 12000] loss: 0.425\n",
            "[15,  2000] loss: 0.388\n",
            "[15,  4000] loss: 0.388\n",
            "[15,  6000] loss: 0.389\n",
            "[15,  8000] loss: 0.404\n",
            "[15, 10000] loss: 0.404\n",
            "[15, 12000] loss: 0.404\n",
            "[16,  2000] loss: 0.370\n",
            "[16,  4000] loss: 0.386\n",
            "[16,  6000] loss: 0.369\n",
            "[16,  8000] loss: 0.373\n",
            "[16, 10000] loss: 0.377\n",
            "[16, 12000] loss: 0.372\n",
            "[17,  2000] loss: 0.354\n",
            "[17,  4000] loss: 0.353\n",
            "[17,  6000] loss: 0.356\n",
            "[17,  8000] loss: 0.358\n",
            "[17, 10000] loss: 0.373\n",
            "[17, 12000] loss: 0.357\n",
            "[18,  2000] loss: 0.337\n",
            "[18,  4000] loss: 0.341\n",
            "[18,  6000] loss: 0.329\n",
            "[18,  8000] loss: 0.334\n",
            "[18, 10000] loss: 0.350\n",
            "[18, 12000] loss: 0.331\n",
            "[19,  2000] loss: 0.307\n",
            "[19,  4000] loss: 0.332\n",
            "[19,  6000] loss: 0.337\n",
            "[19,  8000] loss: 0.320\n",
            "[19, 10000] loss: 0.307\n",
            "[19, 12000] loss: 0.326\n",
            "[20,  2000] loss: 0.288\n",
            "[20,  4000] loss: 0.318\n",
            "[20,  6000] loss: 0.306\n",
            "[20,  8000] loss: 0.315\n",
            "[20, 10000] loss: 0.313\n",
            "[20, 12000] loss: 0.326\n",
            "Finished Training\n"
          ],
          "name": "stdout"
        }
      ]
    },
    {
      "cell_type": "code",
      "metadata": {
        "id": "_DYWlQn3b3-F",
        "colab_type": "code",
        "outputId": "e684e415-9784-47d4-cb67-a2b1aa65a93b",
        "colab": {
          "base_uri": "https://localhost:8080/",
          "height": 35
        }
      },
      "source": [
        "tv.train_and_validate.validate(testloader,device,model)"
      ],
      "execution_count": 0,
      "outputs": [
        {
          "output_type": "stream",
          "text": [
            "Accuracy of the network on the 10000 test images: 84 %\n"
          ],
          "name": "stdout"
        }
      ]
    },
    {
      "cell_type": "code",
      "metadata": {
        "id": "hjzFkWbDqLfk",
        "colab_type": "code",
        "outputId": "1b18a666-d551-47db-a6bc-60c259fb94de",
        "colab": {
          "base_uri": "https://localhost:8080/",
          "height": 190
        }
      },
      "source": [
        "tv.train_and_validate.classValidation(testloader,device,model,classes)"
      ],
      "execution_count": 0,
      "outputs": [
        {
          "output_type": "stream",
          "text": [
            "Accuracy of plane : 89 %\n",
            "Accuracy of   car : 94 %\n",
            "Accuracy of  bird : 82 %\n",
            "Accuracy of   cat : 69 %\n",
            "Accuracy of  deer : 86 %\n",
            "Accuracy of   dog : 74 %\n",
            "Accuracy of  frog : 86 %\n",
            "Accuracy of horse : 88 %\n",
            "Accuracy of  ship : 88 %\n",
            "Accuracy of truck : 87 %\n"
          ],
          "name": "stdout"
        }
      ]
    },
    {
      "cell_type": "code",
      "metadata": {
        "id": "cB2reDEwrRqb",
        "colab_type": "code",
        "outputId": "e6177351-f496-44b7-d7f8-cf9c2a69ce2c",
        "colab": {
          "base_uri": "https://localhost:8080/",
          "height": 1000
        }
      },
      "source": [
        "model = tv.train_and_validate.train(trainloader,device,model,10)\n"
      ],
      "execution_count": 0,
      "outputs": [
        {
          "output_type": "stream",
          "text": [
            "[1,  2000] loss: 0.284\n",
            "[1,  4000] loss: 0.292\n",
            "[1,  6000] loss: 0.307\n",
            "[1,  8000] loss: 0.292\n",
            "[1, 10000] loss: 0.297\n",
            "[1, 12000] loss: 0.301\n",
            "[2,  2000] loss: 0.273\n",
            "[2,  4000] loss: 0.281\n",
            "[2,  6000] loss: 0.276\n",
            "[2,  8000] loss: 0.283\n",
            "[2, 10000] loss: 0.289\n",
            "[2, 12000] loss: 0.279\n",
            "[3,  2000] loss: 0.280\n",
            "[3,  4000] loss: 0.261\n",
            "[3,  6000] loss: 0.264\n",
            "[3,  8000] loss: 0.284\n",
            "[3, 10000] loss: 0.273\n",
            "[3, 12000] loss: 0.287\n",
            "[4,  2000] loss: 0.256\n",
            "[4,  4000] loss: 0.246\n",
            "[4,  6000] loss: 0.262\n",
            "[4,  8000] loss: 0.259\n",
            "[4, 10000] loss: 0.265\n",
            "[4, 12000] loss: 0.272\n",
            "[5,  2000] loss: 0.238\n",
            "[5,  4000] loss: 0.238\n",
            "[5,  6000] loss: 0.237\n",
            "[5,  8000] loss: 0.252\n",
            "[5, 10000] loss: 0.252\n",
            "[5, 12000] loss: 0.253\n",
            "[6,  2000] loss: 0.221\n",
            "[6,  4000] loss: 0.245\n",
            "[6,  6000] loss: 0.234\n",
            "[6,  8000] loss: 0.249\n",
            "[6, 10000] loss: 0.240\n",
            "[6, 12000] loss: 0.243\n",
            "[7,  2000] loss: 0.226\n",
            "[7,  4000] loss: 0.222\n",
            "[7,  6000] loss: 0.220\n",
            "[7,  8000] loss: 0.230\n",
            "[7, 10000] loss: 0.230\n",
            "[7, 12000] loss: 0.240\n",
            "[8,  2000] loss: 0.216\n",
            "[8,  4000] loss: 0.221\n",
            "[8,  6000] loss: 0.218\n",
            "[8,  8000] loss: 0.227\n",
            "[8, 10000] loss: 0.234\n",
            "[8, 12000] loss: 0.218\n",
            "[9,  2000] loss: 0.217\n",
            "[9,  4000] loss: 0.208\n",
            "[9,  6000] loss: 0.213\n",
            "[9,  8000] loss: 0.216\n",
            "[9, 10000] loss: 0.227\n",
            "[9, 12000] loss: 0.220\n",
            "[10,  2000] loss: 0.195\n",
            "[10,  4000] loss: 0.208\n",
            "[10,  6000] loss: 0.218\n",
            "[10,  8000] loss: 0.203\n",
            "[10, 10000] loss: 0.210\n",
            "[10, 12000] loss: 0.227\n",
            "Finished Training\n"
          ],
          "name": "stdout"
        }
      ]
    },
    {
      "cell_type": "code",
      "metadata": {
        "id": "DEAj1wxwrTjN",
        "colab_type": "code",
        "outputId": "28613a40-b54c-4faa-9233-debb8d232c9e",
        "colab": {
          "base_uri": "https://localhost:8080/",
          "height": 35
        }
      },
      "source": [
        "tv.train_and_validate.validate(testloader,device,model)"
      ],
      "execution_count": 0,
      "outputs": [
        {
          "output_type": "stream",
          "text": [
            "Accuracy of the network on the 10000 test images: 85 %\n"
          ],
          "name": "stdout"
        }
      ]
    },
    {
      "cell_type": "code",
      "metadata": {
        "id": "t1nldNHsrUbG",
        "colab_type": "code",
        "outputId": "753332ee-437c-4eed-fe0a-fdf3828e4bd9",
        "colab": {
          "base_uri": "https://localhost:8080/",
          "height": 190
        }
      },
      "source": [
        "tv.train_and_validate.classValidation(testloader,device,model,classes)"
      ],
      "execution_count": 0,
      "outputs": [
        {
          "output_type": "stream",
          "text": [
            "Accuracy of plane : 84 %\n",
            "Accuracy of   car : 93 %\n",
            "Accuracy of  bird : 69 %\n",
            "Accuracy of   cat : 78 %\n",
            "Accuracy of  deer : 88 %\n",
            "Accuracy of   dog : 77 %\n",
            "Accuracy of  frog : 91 %\n",
            "Accuracy of horse : 85 %\n",
            "Accuracy of  ship : 92 %\n",
            "Accuracy of truck : 91 %\n"
          ],
          "name": "stdout"
        }
      ]
    },
    {
      "cell_type": "code",
      "metadata": {
        "colab_type": "code",
        "id": "4noijeC7rYjY",
        "outputId": "f6971afd-a149-4dd3-e8c4-d43d22faf204",
        "colab": {
          "base_uri": "https://localhost:8080/",
          "height": 1000
        }
      },
      "source": [
        "model = tv.train_and_validate.train(trainloader,device,model,10)"
      ],
      "execution_count": 0,
      "outputs": [
        {
          "output_type": "stream",
          "text": [
            "[1,  2000] loss: 0.175\n",
            "[1,  4000] loss: 0.185\n",
            "[1,  6000] loss: 0.196\n",
            "[1,  8000] loss: 0.205\n",
            "[1, 10000] loss: 0.204\n",
            "[1, 12000] loss: 0.199\n",
            "[2,  2000] loss: 0.180\n",
            "[2,  4000] loss: 0.190\n",
            "[2,  6000] loss: 0.190\n",
            "[2,  8000] loss: 0.186\n",
            "[2, 10000] loss: 0.201\n",
            "[2, 12000] loss: 0.197\n",
            "[3,  2000] loss: 0.180\n",
            "[3,  4000] loss: 0.182\n",
            "[3,  6000] loss: 0.184\n",
            "[3,  8000] loss: 0.181\n",
            "[3, 10000] loss: 0.190\n",
            "[3, 12000] loss: 0.189\n",
            "[4,  2000] loss: 0.179\n",
            "[4,  4000] loss: 0.169\n",
            "[4,  6000] loss: 0.188\n",
            "[4,  8000] loss: 0.178\n",
            "[4, 10000] loss: 0.190\n",
            "[4, 12000] loss: 0.182\n",
            "[5,  2000] loss: 0.161\n",
            "[5,  4000] loss: 0.167\n",
            "[5,  6000] loss: 0.171\n",
            "[5,  8000] loss: 0.174\n",
            "[5, 10000] loss: 0.179\n",
            "[5, 12000] loss: 0.181\n",
            "[6,  2000] loss: 0.161\n",
            "[6,  4000] loss: 0.173\n",
            "[6,  6000] loss: 0.161\n",
            "[6,  8000] loss: 0.180\n",
            "[6, 10000] loss: 0.176\n",
            "[6, 12000] loss: 0.185\n",
            "[7,  2000] loss: 0.153\n",
            "[7,  4000] loss: 0.152\n",
            "[7,  6000] loss: 0.162\n",
            "[7,  8000] loss: 0.161\n",
            "[7, 10000] loss: 0.167\n",
            "[7, 12000] loss: 0.178\n",
            "[8,  2000] loss: 0.149\n",
            "[8,  4000] loss: 0.145\n",
            "[8,  6000] loss: 0.161\n",
            "[8,  8000] loss: 0.152\n",
            "[8, 10000] loss: 0.179\n",
            "[8, 12000] loss: 0.166\n",
            "[9,  2000] loss: 0.146\n",
            "[9,  4000] loss: 0.151\n",
            "[9,  6000] loss: 0.154\n",
            "[9,  8000] loss: 0.159\n",
            "[9, 10000] loss: 0.151\n",
            "[9, 12000] loss: 0.148\n",
            "[10,  2000] loss: 0.146\n",
            "[10,  4000] loss: 0.146\n",
            "[10,  6000] loss: 0.149\n",
            "[10,  8000] loss: 0.153\n",
            "[10, 10000] loss: 0.151\n",
            "[10, 12000] loss: 0.153\n",
            "Finished Training\n"
          ],
          "name": "stdout"
        }
      ]
    },
    {
      "cell_type": "code",
      "metadata": {
        "colab_type": "code",
        "id": "Bls2VlNIrYjq",
        "outputId": "4d9270f2-d39a-422c-87f6-adaa0b76bf7f",
        "colab": {
          "base_uri": "https://localhost:8080/",
          "height": 35
        }
      },
      "source": [
        "tv.train_and_validate.validate(testloader,device,model)"
      ],
      "execution_count": 0,
      "outputs": [
        {
          "output_type": "stream",
          "text": [
            "Accuracy of the network on the 10000 test images: 85 %\n"
          ],
          "name": "stdout"
        }
      ]
    },
    {
      "cell_type": "code",
      "metadata": {
        "colab_type": "code",
        "id": "6_GpNQwSrYjw",
        "outputId": "e3f377f7-663b-4e48-d414-a30e86cd3cec",
        "colab": {
          "base_uri": "https://localhost:8080/",
          "height": 190
        }
      },
      "source": [
        "tv.train_and_validate.classValidation(testloader,device,model,classes)"
      ],
      "execution_count": 0,
      "outputs": [
        {
          "output_type": "stream",
          "text": [
            "Accuracy of plane : 89 %\n",
            "Accuracy of   car : 91 %\n",
            "Accuracy of  bird : 77 %\n",
            "Accuracy of   cat : 73 %\n",
            "Accuracy of  deer : 87 %\n",
            "Accuracy of   dog : 75 %\n",
            "Accuracy of  frog : 92 %\n",
            "Accuracy of horse : 87 %\n",
            "Accuracy of  ship : 93 %\n",
            "Accuracy of truck : 91 %\n"
          ],
          "name": "stdout"
        }
      ]
    },
    {
      "cell_type": "code",
      "metadata": {
        "id": "KWtoPA6aRa0M",
        "colab_type": "code",
        "outputId": "daa15d76-d958-42c7-8c6e-8d09d608b356",
        "colab": {
          "base_uri": "https://localhost:8080/",
          "height": 1000
        }
      },
      "source": [
        "model = tv.train_and_validate.train(trainloader,device,model,10)"
      ],
      "execution_count": 0,
      "outputs": [
        {
          "output_type": "stream",
          "text": [
            "[1,  2000] loss: 0.136\n",
            "[1,  4000] loss: 0.144\n",
            "[1,  6000] loss: 0.153\n",
            "[1,  8000] loss: 0.147\n",
            "[1, 10000] loss: 0.142\n",
            "[1, 12000] loss: 0.150\n",
            "[2,  2000] loss: 0.133\n",
            "[2,  4000] loss: 0.129\n",
            "[2,  6000] loss: 0.143\n",
            "[2,  8000] loss: 0.148\n",
            "[2, 10000] loss: 0.156\n",
            "[2, 12000] loss: 0.150\n",
            "[3,  2000] loss: 0.136\n",
            "[3,  4000] loss: 0.129\n",
            "[3,  6000] loss: 0.142\n",
            "[3,  8000] loss: 0.136\n",
            "[3, 10000] loss: 0.150\n",
            "[3, 12000] loss: 0.147\n",
            "[4,  2000] loss: 0.117\n",
            "[4,  4000] loss: 0.127\n",
            "[4,  6000] loss: 0.134\n",
            "[4,  8000] loss: 0.142\n",
            "[4, 10000] loss: 0.147\n",
            "[4, 12000] loss: 0.147\n",
            "[5,  2000] loss: 0.123\n",
            "[5,  4000] loss: 0.144\n",
            "[5,  6000] loss: 0.123\n",
            "[5,  8000] loss: 0.135\n",
            "[5, 10000] loss: 0.143\n",
            "[5, 12000] loss: 0.141\n",
            "[6,  2000] loss: 0.125\n",
            "[6,  4000] loss: 0.122\n",
            "[6,  6000] loss: 0.137\n",
            "[6,  8000] loss: 0.130\n",
            "[6, 10000] loss: 0.132\n",
            "[6, 12000] loss: 0.122\n",
            "[7,  2000] loss: 0.119\n",
            "[7,  4000] loss: 0.128\n",
            "[7,  6000] loss: 0.125\n",
            "[7,  8000] loss: 0.136\n",
            "[7, 10000] loss: 0.127\n",
            "[7, 12000] loss: 0.124\n",
            "[8,  2000] loss: 0.108\n",
            "[8,  4000] loss: 0.120\n",
            "[8,  6000] loss: 0.130\n",
            "[8,  8000] loss: 0.120\n",
            "[8, 10000] loss: 0.117\n",
            "[8, 12000] loss: 0.130\n",
            "[9,  2000] loss: 0.115\n",
            "[9,  4000] loss: 0.119\n",
            "[9,  6000] loss: 0.125\n",
            "[9,  8000] loss: 0.111\n",
            "[9, 10000] loss: 0.129\n",
            "[9, 12000] loss: 0.130\n",
            "[10,  2000] loss: 0.121\n",
            "[10,  4000] loss: 0.116\n",
            "[10,  6000] loss: 0.121\n",
            "[10,  8000] loss: 0.119\n",
            "[10, 10000] loss: 0.130\n",
            "[10, 12000] loss: 0.121\n",
            "Finished Training\n"
          ],
          "name": "stdout"
        }
      ]
    },
    {
      "cell_type": "code",
      "metadata": {
        "id": "vzwObFXTRbJA",
        "colab_type": "code",
        "outputId": "af0503ed-63e9-490a-f2a4-73bc05e90210",
        "colab": {
          "base_uri": "https://localhost:8080/",
          "height": 35
        }
      },
      "source": [
        "tv.train_and_validate.validate(testloader,device,model)"
      ],
      "execution_count": 0,
      "outputs": [
        {
          "output_type": "stream",
          "text": [
            "Accuracy of the network on the 10000 test images: 87 %\n"
          ],
          "name": "stdout"
        }
      ]
    },
    {
      "cell_type": "code",
      "metadata": {
        "id": "5ZWq1W5ORbXI",
        "colab_type": "code",
        "outputId": "206c6b29-236b-4de5-8a78-2f0317d15f15",
        "colab": {
          "base_uri": "https://localhost:8080/",
          "height": 190
        }
      },
      "source": [
        "tv.train_and_validate.classValidation(testloader,device,model,classes)"
      ],
      "execution_count": 0,
      "outputs": [
        {
          "output_type": "stream",
          "text": [
            "Accuracy of plane : 91 %\n",
            "Accuracy of   car : 94 %\n",
            "Accuracy of  bird : 81 %\n",
            "Accuracy of   cat : 70 %\n",
            "Accuracy of  deer : 89 %\n",
            "Accuracy of   dog : 81 %\n",
            "Accuracy of  frog : 87 %\n",
            "Accuracy of horse : 89 %\n",
            "Accuracy of  ship : 93 %\n",
            "Accuracy of truck : 92 %\n"
          ],
          "name": "stdout"
        }
      ]
    }
  ]
}