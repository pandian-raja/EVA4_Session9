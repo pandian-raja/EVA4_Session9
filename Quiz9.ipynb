{
  "nbformat": 4,
  "nbformat_minor": 0,
  "metadata": {
    "colab": {
      "name": "Quiz9.ipynb",
      "provenance": [],
      "collapsed_sections": [],
      "include_colab_link": true
    },
    "kernelspec": {
      "name": "python3",
      "display_name": "Python 3"
    },
    "accelerator": "GPU"
  },
  "cells": [
    {
      "cell_type": "markdown",
      "metadata": {
        "id": "view-in-github",
        "colab_type": "text"
      },
      "source": [
        "<a href=\"https://colab.research.google.com/github/pandian-raja/EVA4_Session9/blob/master/Quiz9.ipynb\" target=\"_parent\"><img src=\"https://colab.research.google.com/assets/colab-badge.svg\" alt=\"Open In Colab\"/></a>"
      ]
    },
    {
      "cell_type": "code",
      "metadata": {
        "id": "RW1KNZVeajt9",
        "colab_type": "code",
        "colab": {
          "base_uri": "https://localhost:8080/",
          "height": 181
        },
        "outputId": "dce06e00-9faa-42f5-d3fc-cd2beab77ae7"
      },
      "source": [
        "import datetime as dt\n",
        "print(\"Current Date/Time:\",datetime.now())"
      ],
      "execution_count": 45,
      "outputs": [
        {
          "output_type": "error",
          "ename": "AttributeError",
          "evalue": "ignored",
          "traceback": [
            "\u001b[0;31m---------------------------------------------------------------------------\u001b[0m",
            "\u001b[0;31mAttributeError\u001b[0m                            Traceback (most recent call last)",
            "\u001b[0;32m<ipython-input-45-bf71a942369d>\u001b[0m in \u001b[0;36m<module>\u001b[0;34m()\u001b[0m\n\u001b[1;32m      1\u001b[0m \u001b[0;32mimport\u001b[0m \u001b[0mdatetime\u001b[0m \u001b[0;32mas\u001b[0m \u001b[0mdt\u001b[0m\u001b[0;34m\u001b[0m\u001b[0;34m\u001b[0m\u001b[0m\n\u001b[0;32m----> 2\u001b[0;31m \u001b[0mprint\u001b[0m\u001b[0;34m(\u001b[0m\u001b[0;34m\"Current Date/Time:\"\u001b[0m\u001b[0;34m,\u001b[0m\u001b[0mdatetime\u001b[0m\u001b[0;34m.\u001b[0m\u001b[0mnow\u001b[0m\u001b[0;34m(\u001b[0m\u001b[0;34m)\u001b[0m\u001b[0;34m)\u001b[0m\u001b[0;34m\u001b[0m\u001b[0;34m\u001b[0m\u001b[0m\n\u001b[0m",
            "\u001b[0;31mAttributeError\u001b[0m: module 'datetime' has no attribute 'now'"
          ]
        }
      ]
    },
    {
      "cell_type": "code",
      "metadata": {
        "id": "MCG3wGCebcsu",
        "colab_type": "code",
        "colab": {
          "base_uri": "https://localhost:8080/",
          "height": 34
        },
        "outputId": "ecfe7994-e0b8-4db2-9188-79765a2a4eb0"
      },
      "source": [
        "dt.datetime.now()"
      ],
      "execution_count": 46,
      "outputs": [
        {
          "output_type": "execute_result",
          "data": {
            "text/plain": [
              "datetime.datetime(2020, 3, 17, 21, 38, 35, 564234)"
            ]
          },
          "metadata": {
            "tags": []
          },
          "execution_count": 46
        }
      ]
    },
    {
      "cell_type": "code",
      "metadata": {
        "id": "PtDX-AT6Xhh3",
        "colab_type": "code",
        "outputId": "073beb27-dcbb-44ea-900b-5e7e471fa145",
        "colab": {
          "base_uri": "https://localhost:8080/",
          "height": 340
        }
      },
      "source": [
        "!pip install albumentations\n",
        "!pip install torchsummary\n",
        "from torchsummary import summary\n",
        "import numpy as np\n"
      ],
      "execution_count": 19,
      "outputs": [
        {
          "output_type": "stream",
          "text": [
            "Requirement already satisfied: albumentations in /usr/local/lib/python3.6/dist-packages (0.1.12)\n",
            "Requirement already satisfied: imgaug<0.2.7,>=0.2.5 in /usr/local/lib/python3.6/dist-packages (from albumentations) (0.2.6)\n",
            "Requirement already satisfied: scipy in /usr/local/lib/python3.6/dist-packages (from albumentations) (1.4.1)\n",
            "Requirement already satisfied: opencv-python in /usr/local/lib/python3.6/dist-packages (from albumentations) (4.1.2.30)\n",
            "Requirement already satisfied: numpy>=1.11.1 in /usr/local/lib/python3.6/dist-packages (from albumentations) (1.18.1)\n",
            "Requirement already satisfied: six in /usr/local/lib/python3.6/dist-packages (from imgaug<0.2.7,>=0.2.5->albumentations) (1.12.0)\n",
            "Requirement already satisfied: scikit-image>=0.11.0 in /usr/local/lib/python3.6/dist-packages (from imgaug<0.2.7,>=0.2.5->albumentations) (0.16.2)\n",
            "Requirement already satisfied: matplotlib!=3.0.0,>=2.0.0 in /usr/local/lib/python3.6/dist-packages (from scikit-image>=0.11.0->imgaug<0.2.7,>=0.2.5->albumentations) (3.2.0)\n",
            "Requirement already satisfied: networkx>=2.0 in /usr/local/lib/python3.6/dist-packages (from scikit-image>=0.11.0->imgaug<0.2.7,>=0.2.5->albumentations) (2.4)\n",
            "Requirement already satisfied: imageio>=2.3.0 in /usr/local/lib/python3.6/dist-packages (from scikit-image>=0.11.0->imgaug<0.2.7,>=0.2.5->albumentations) (2.4.1)\n",
            "Requirement already satisfied: PyWavelets>=0.4.0 in /usr/local/lib/python3.6/dist-packages (from scikit-image>=0.11.0->imgaug<0.2.7,>=0.2.5->albumentations) (1.1.1)\n",
            "Requirement already satisfied: pillow>=4.3.0 in /usr/local/lib/python3.6/dist-packages (from scikit-image>=0.11.0->imgaug<0.2.7,>=0.2.5->albumentations) (7.0.0)\n",
            "Requirement already satisfied: python-dateutil>=2.1 in /usr/local/lib/python3.6/dist-packages (from matplotlib!=3.0.0,>=2.0.0->scikit-image>=0.11.0->imgaug<0.2.7,>=0.2.5->albumentations) (2.8.1)\n",
            "Requirement already satisfied: kiwisolver>=1.0.1 in /usr/local/lib/python3.6/dist-packages (from matplotlib!=3.0.0,>=2.0.0->scikit-image>=0.11.0->imgaug<0.2.7,>=0.2.5->albumentations) (1.1.0)\n",
            "Requirement already satisfied: pyparsing!=2.0.4,!=2.1.2,!=2.1.6,>=2.0.1 in /usr/local/lib/python3.6/dist-packages (from matplotlib!=3.0.0,>=2.0.0->scikit-image>=0.11.0->imgaug<0.2.7,>=0.2.5->albumentations) (2.4.6)\n",
            "Requirement already satisfied: cycler>=0.10 in /usr/local/lib/python3.6/dist-packages (from matplotlib!=3.0.0,>=2.0.0->scikit-image>=0.11.0->imgaug<0.2.7,>=0.2.5->albumentations) (0.10.0)\n",
            "Requirement already satisfied: decorator>=4.3.0 in /usr/local/lib/python3.6/dist-packages (from networkx>=2.0->scikit-image>=0.11.0->imgaug<0.2.7,>=0.2.5->albumentations) (4.4.2)\n",
            "Requirement already satisfied: setuptools in /usr/local/lib/python3.6/dist-packages (from kiwisolver>=1.0.1->matplotlib!=3.0.0,>=2.0.0->scikit-image>=0.11.0->imgaug<0.2.7,>=0.2.5->albumentations) (45.2.0)\n",
            "Requirement already satisfied: torchsummary in /usr/local/lib/python3.6/dist-packages (1.5.1)\n"
          ],
          "name": "stdout"
        }
      ]
    },
    {
      "cell_type": "code",
      "metadata": {
        "id": "iy7xB6pZambo",
        "colab_type": "code",
        "outputId": "88db6282-74b1-457b-c416-11458a6b1203",
        "colab": {
          "base_uri": "https://localhost:8080/",
          "height": 204
        }
      },
      "source": [
        "!wget https://raw.githubusercontent.com/pandian-raja/EVA4_Session8/master/resnet.py"
      ],
      "execution_count": 2,
      "outputs": [
        {
          "output_type": "stream",
          "text": [
            "--2020-03-17 19:02:47--  https://raw.githubusercontent.com/pandian-raja/EVA4_Session8/master/resnet.py\n",
            "Resolving raw.githubusercontent.com (raw.githubusercontent.com)... 151.101.0.133, 151.101.64.133, 151.101.128.133, ...\n",
            "Connecting to raw.githubusercontent.com (raw.githubusercontent.com)|151.101.0.133|:443... connected.\n",
            "HTTP request sent, awaiting response... 200 OK\n",
            "Length: 4005 (3.9K) [text/plain]\n",
            "Saving to: ‘resnet.py’\n",
            "\n",
            "\rresnet.py             0%[                    ]       0  --.-KB/s               \rresnet.py           100%[===================>]   3.91K  --.-KB/s    in 0s      \n",
            "\n",
            "2020-03-17 19:02:48 (68.3 MB/s) - ‘resnet.py’ saved [4005/4005]\n",
            "\n"
          ],
          "name": "stdout"
        }
      ]
    },
    {
      "cell_type": "code",
      "metadata": {
        "id": "8SM8XVZDaoRy",
        "colab_type": "code",
        "outputId": "c0477394-c498-48cd-e311-5565780407a9",
        "colab": {
          "base_uri": "https://localhost:8080/",
          "height": 204
        }
      },
      "source": [
        "!wget https://raw.githubusercontent.com/pandian-raja/EVA4_Session7/master/train_and_validate.py"
      ],
      "execution_count": 20,
      "outputs": [
        {
          "output_type": "stream",
          "text": [
            "--2020-03-17 21:21:46--  https://raw.githubusercontent.com/pandian-raja/EVA4_Session7/master/train_and_validate.py\n",
            "Resolving raw.githubusercontent.com (raw.githubusercontent.com)... 151.101.0.133, 151.101.64.133, 151.101.128.133, ...\n",
            "Connecting to raw.githubusercontent.com (raw.githubusercontent.com)|151.101.0.133|:443... connected.\n",
            "HTTP request sent, awaiting response... 200 OK\n",
            "Length: 2734 (2.7K) [text/plain]\n",
            "Saving to: ‘train_and_validate.py.1’\n",
            "\n",
            "\rtrain_and_validate.   0%[                    ]       0  --.-KB/s               \rtrain_and_validate. 100%[===================>]   2.67K  --.-KB/s    in 0s      \n",
            "\n",
            "2020-03-17 21:21:46 (66.0 MB/s) - ‘train_and_validate.py.1’ saved [2734/2734]\n",
            "\n"
          ],
          "name": "stdout"
        }
      ]
    },
    {
      "cell_type": "code",
      "metadata": {
        "id": "POC6uJ_pYG3H",
        "colab_type": "code",
        "colab": {
          "base_uri": "https://localhost:8080/",
          "height": 204
        },
        "outputId": "7df133cc-6004-48e9-833b-575fd8f41e68"
      },
      "source": [
        "!wget  https://raw.githubusercontent.com/pandian-raja/EVA4_Session7/master/GetData.py"
      ],
      "execution_count": 21,
      "outputs": [
        {
          "output_type": "stream",
          "text": [
            "--2020-03-17 21:22:42--  https://raw.githubusercontent.com/pandian-raja/EVA4_Session7/master/GetData.py\n",
            "Resolving raw.githubusercontent.com (raw.githubusercontent.com)... 151.101.0.133, 151.101.64.133, 151.101.128.133, ...\n",
            "Connecting to raw.githubusercontent.com (raw.githubusercontent.com)|151.101.0.133|:443... connected.\n",
            "HTTP request sent, awaiting response... 200 OK\n",
            "Length: 2024 (2.0K) [text/plain]\n",
            "Saving to: ‘GetData.py’\n",
            "\n",
            "\rGetData.py            0%[                    ]       0  --.-KB/s               \rGetData.py          100%[===================>]   1.98K  --.-KB/s    in 0s      \n",
            "\n",
            "2020-03-17 21:22:42 (64.6 MB/s) - ‘GetData.py’ saved [2024/2024]\n",
            "\n"
          ],
          "name": "stdout"
        }
      ]
    },
    {
      "cell_type": "code",
      "metadata": {
        "id": "8P7KfZLkkPdb",
        "colab_type": "code",
        "colab": {
          "base_uri": "https://localhost:8080/",
          "height": 204
        },
        "outputId": "e947f380-44b6-4c8b-ef94-55c6b04e5463"
      },
      "source": [
        "!wget  https://raw.githubusercontent.com/pandian-raja/EVA4_Session9/master/QuizDNN.py"
      ],
      "execution_count": 55,
      "outputs": [
        {
          "output_type": "stream",
          "text": [
            "--2020-03-17 22:15:41--  https://raw.githubusercontent.com/pandian-raja/EVA4_Session9/master/QuizDNN.py\n",
            "Resolving raw.githubusercontent.com (raw.githubusercontent.com)... 151.101.0.133, 151.101.64.133, 151.101.128.133, ...\n",
            "Connecting to raw.githubusercontent.com (raw.githubusercontent.com)|151.101.0.133|:443... connected.\n",
            "HTTP request sent, awaiting response... 200 OK\n",
            "Length: 3110 (3.0K) [text/plain]\n",
            "Saving to: ‘QuizDNN.py’\n",
            "\n",
            "\rQuizDNN.py            0%[                    ]       0  --.-KB/s               \rQuizDNN.py          100%[===================>]   3.04K  --.-KB/s    in 0s      \n",
            "\n",
            "2020-03-17 22:15:41 (82.8 MB/s) - ‘QuizDNN.py’ saved [3110/3110]\n",
            "\n"
          ],
          "name": "stdout"
        }
      ]
    },
    {
      "cell_type": "code",
      "metadata": {
        "id": "m1WcLYPIkSBJ",
        "colab_type": "code",
        "colab": {}
      },
      "source": [
        "import QuizDNN as qd"
      ],
      "execution_count": 0,
      "outputs": []
    },
    {
      "cell_type": "code",
      "metadata": {
        "id": "t6k0zajXYJht",
        "colab_type": "code",
        "colab": {
          "base_uri": "https://localhost:8080/",
          "height": 34
        },
        "outputId": "e64b3396-e5c5-4909-de4b-bffa23f2ac67"
      },
      "source": [
        "!pip install torchsummary\n",
        "from torchsummary import summary\n",
        "import GetData as gd\n",
        "import train_and_validate as tv"
      ],
      "execution_count": 24,
      "outputs": [
        {
          "output_type": "stream",
          "text": [
            "Requirement already satisfied: torchsummary in /usr/local/lib/python3.6/dist-packages (1.5.1)\n"
          ],
          "name": "stdout"
        }
      ]
    },
    {
      "cell_type": "code",
      "metadata": {
        "id": "whOoRXxDYXn2",
        "colab_type": "code",
        "colab": {
          "base_uri": "https://localhost:8080/",
          "height": 68
        },
        "outputId": "e05d4b58-833d-4830-e936-a46b8dd91e28"
      },
      "source": [
        "trainloader, testloader, classes, device = gd.GetData.importDataset()\n"
      ],
      "execution_count": 25,
      "outputs": [
        {
          "output_type": "stream",
          "text": [
            "CUDA Available? True\n",
            "Files already downloaded and verified\n",
            "Files already downloaded and verified\n"
          ],
          "name": "stdout"
        }
      ]
    },
    {
      "cell_type": "code",
      "metadata": {
        "id": "9RE1LMZDZz-O",
        "colab_type": "code",
        "colab": {
          "base_uri": "https://localhost:8080/",
          "height": 714
        },
        "outputId": "ce9dbb56-0afa-4ec9-bbce-d97aa158646e"
      },
      "source": [
        "model = qd.Net().to(device)\n",
        "summary(model, input_size=(3, 32, 32))"
      ],
      "execution_count": 58,
      "outputs": [
        {
          "output_type": "stream",
          "text": [
            "----------------------------------------------------------------\n",
            "        Layer (type)               Output Shape         Param #\n",
            "================================================================\n",
            "            Conv2d-1           [-1, 64, 30, 30]           1,728\n",
            "       BatchNorm2d-2           [-1, 64, 30, 30]             128\n",
            "              ReLU-3           [-1, 64, 30, 30]               0\n",
            "            Conv2d-4           [-1, 64, 28, 28]          36,864\n",
            "       BatchNorm2d-5           [-1, 64, 28, 28]             128\n",
            "              ReLU-6           [-1, 64, 28, 28]               0\n",
            "         MaxPool2d-7           [-1, 64, 14, 14]               0\n",
            "            Conv2d-8           [-1, 64, 16, 16]          36,864\n",
            "       BatchNorm2d-9           [-1, 64, 16, 16]             128\n",
            "             ReLU-10           [-1, 64, 16, 16]               0\n",
            "           Conv2d-11           [-1, 64, 18, 18]          36,864\n",
            "      BatchNorm2d-12           [-1, 64, 18, 18]             128\n",
            "             ReLU-13           [-1, 64, 18, 18]               0\n",
            "           Conv2d-14           [-1, 64, 20, 20]          36,864\n",
            "      BatchNorm2d-15           [-1, 64, 20, 20]             128\n",
            "             ReLU-16           [-1, 64, 20, 20]               0\n",
            "        MaxPool2d-17           [-1, 64, 10, 10]               0\n",
            "           Conv2d-18             [-1, 64, 8, 8]          36,864\n",
            "      BatchNorm2d-19             [-1, 64, 8, 8]             128\n",
            "             ReLU-20             [-1, 64, 8, 8]               0\n",
            "           Conv2d-21             [-1, 64, 6, 6]          36,864\n",
            "      BatchNorm2d-22             [-1, 64, 6, 6]             128\n",
            "             ReLU-23             [-1, 64, 6, 6]               0\n",
            "           Conv2d-24             [-1, 64, 4, 4]          36,864\n",
            "      BatchNorm2d-25             [-1, 64, 4, 4]             128\n",
            "             ReLU-26             [-1, 64, 4, 4]               0\n",
            "        AvgPool2d-27             [-1, 64, 1, 1]               0\n",
            "           Conv2d-28             [-1, 10, 1, 1]             640\n",
            "================================================================\n",
            "Total params: 261,440\n",
            "Trainable params: 261,440\n",
            "Non-trainable params: 0\n",
            "----------------------------------------------------------------\n",
            "Input size (MB): 0.01\n",
            "Forward/backward pass size (MB): 4.22\n",
            "Params size (MB): 1.00\n",
            "Estimated Total Size (MB): 5.23\n",
            "----------------------------------------------------------------\n"
          ],
          "name": "stdout"
        }
      ]
    },
    {
      "cell_type": "code",
      "metadata": {
        "id": "fH7AoundaRR_",
        "colab_type": "code",
        "colab": {
          "base_uri": "https://localhost:8080/",
          "height": 1000
        },
        "outputId": "c4de8b6c-aac9-4ff1-a572-391bc7b56809"
      },
      "source": [
        "model = tv.train_and_validate.train(trainloader,device,model,10)\n"
      ],
      "execution_count": 49,
      "outputs": [
        {
          "output_type": "stream",
          "text": [
            "[1,  2000] loss: 1.965\n",
            "[1,  4000] loss: 1.739\n",
            "[1,  6000] loss: 1.617\n",
            "[1,  8000] loss: 1.508\n",
            "[1, 10000] loss: 1.424\n",
            "[1, 12000] loss: 1.368\n",
            "[2,  2000] loss: 1.266\n",
            "[2,  4000] loss: 1.242\n",
            "[2,  6000] loss: 1.174\n",
            "[2,  8000] loss: 1.164\n",
            "[2, 10000] loss: 1.125\n",
            "[2, 12000] loss: 1.099\n",
            "[3,  2000] loss: 1.051\n",
            "[3,  4000] loss: 1.020\n",
            "[3,  6000] loss: 1.018\n",
            "[3,  8000] loss: 1.008\n",
            "[3, 10000] loss: 0.985\n",
            "[3, 12000] loss: 0.934\n",
            "[4,  2000] loss: 0.924\n",
            "[4,  4000] loss: 0.921\n",
            "[4,  6000] loss: 0.913\n",
            "[4,  8000] loss: 0.909\n",
            "[4, 10000] loss: 0.882\n",
            "[4, 12000] loss: 0.880\n",
            "[5,  2000] loss: 0.861\n",
            "[5,  4000] loss: 0.851\n",
            "[5,  6000] loss: 0.845\n",
            "[5,  8000] loss: 0.845\n",
            "[5, 10000] loss: 0.831\n",
            "[5, 12000] loss: 0.815\n",
            "[6,  2000] loss: 0.766\n",
            "[6,  4000] loss: 0.809\n",
            "[6,  6000] loss: 0.785\n",
            "[6,  8000] loss: 0.771\n",
            "[6, 10000] loss: 0.783\n",
            "[6, 12000] loss: 0.792\n",
            "[7,  2000] loss: 0.770\n",
            "[7,  4000] loss: 0.764\n",
            "[7,  6000] loss: 0.740\n",
            "[7,  8000] loss: 0.742\n",
            "[7, 10000] loss: 0.732\n",
            "[7, 12000] loss: 0.723\n",
            "[8,  2000] loss: 0.733\n",
            "[8,  4000] loss: 0.736\n",
            "[8,  6000] loss: 0.696\n",
            "[8,  8000] loss: 0.708\n",
            "[8, 10000] loss: 0.695\n",
            "[8, 12000] loss: 0.715\n",
            "[9,  2000] loss: 0.667\n",
            "[9,  4000] loss: 0.711\n",
            "[9,  6000] loss: 0.700\n",
            "[9,  8000] loss: 0.667\n",
            "[9, 10000] loss: 0.667\n",
            "[9, 12000] loss: 0.675\n",
            "[10,  2000] loss: 0.677\n",
            "[10,  4000] loss: 0.650\n",
            "[10,  6000] loss: 0.640\n",
            "[10,  8000] loss: 0.640\n",
            "[10, 10000] loss: 0.659\n",
            "[10, 12000] loss: 0.639\n",
            "Finished Training\n"
          ],
          "name": "stdout"
        }
      ]
    },
    {
      "cell_type": "code",
      "metadata": {
        "id": "T8REUPDfa2_v",
        "colab_type": "code",
        "colab": {
          "base_uri": "https://localhost:8080/",
          "height": 34
        },
        "outputId": "244d0e0d-504e-4b70-907b-24fbd3e15c16"
      },
      "source": [
        "tv.train_and_validate.validate(testloader,device,model)\n"
      ],
      "execution_count": 50,
      "outputs": [
        {
          "output_type": "stream",
          "text": [
            "Accuracy of the network on the 10000 test images: 75 %\n"
          ],
          "name": "stdout"
        }
      ]
    },
    {
      "cell_type": "code",
      "metadata": {
        "id": "eTh42ZILf5rQ",
        "colab_type": "code",
        "colab": {
          "base_uri": "https://localhost:8080/",
          "height": 544
        },
        "outputId": "41d95297-4d5d-419d-aaad-0fad44a00227"
      },
      "source": [
        "model = tv.train_and_validate.train(trainloader,device,model,5)"
      ],
      "execution_count": 51,
      "outputs": [
        {
          "output_type": "stream",
          "text": [
            "[1,  2000] loss: 0.658\n",
            "[1,  4000] loss: 0.639\n",
            "[1,  6000] loss: 0.636\n",
            "[1,  8000] loss: 0.629\n",
            "[1, 10000] loss: 0.619\n",
            "[1, 12000] loss: 0.625\n",
            "[2,  2000] loss: 0.613\n",
            "[2,  4000] loss: 0.603\n",
            "[2,  6000] loss: 0.624\n",
            "[2,  8000] loss: 0.614\n",
            "[2, 10000] loss: 0.610\n",
            "[2, 12000] loss: 0.609\n",
            "[3,  2000] loss: 0.593\n",
            "[3,  4000] loss: 0.591\n",
            "[3,  6000] loss: 0.603\n",
            "[3,  8000] loss: 0.583\n",
            "[3, 10000] loss: 0.611\n",
            "[3, 12000] loss: 0.603\n",
            "[4,  2000] loss: 0.569\n",
            "[4,  4000] loss: 0.577\n",
            "[4,  6000] loss: 0.567\n",
            "[4,  8000] loss: 0.584\n",
            "[4, 10000] loss: 0.611\n",
            "[4, 12000] loss: 0.582\n",
            "[5,  2000] loss: 0.558\n",
            "[5,  4000] loss: 0.579\n",
            "[5,  6000] loss: 0.575\n",
            "[5,  8000] loss: 0.562\n",
            "[5, 10000] loss: 0.563\n",
            "[5, 12000] loss: 0.552\n",
            "Finished Training\n"
          ],
          "name": "stdout"
        }
      ]
    },
    {
      "cell_type": "code",
      "metadata": {
        "id": "7CJ8U2sQf98K",
        "colab_type": "code",
        "colab": {
          "base_uri": "https://localhost:8080/",
          "height": 34
        },
        "outputId": "76441460-017a-4c95-980d-60b79926ea1f"
      },
      "source": [
        "tv.train_and_validate.validate(testloader,device,model)\n"
      ],
      "execution_count": 52,
      "outputs": [
        {
          "output_type": "stream",
          "text": [
            "Accuracy of the network on the 10000 test images: 78 %\n"
          ],
          "name": "stdout"
        }
      ]
    },
    {
      "cell_type": "code",
      "metadata": {
        "id": "KDXolVE8ibsH",
        "colab_type": "code",
        "colab": {
          "base_uri": "https://localhost:8080/",
          "height": 34
        },
        "outputId": "9eebe55f-3650-4641-d269-44123fd75426"
      },
      "source": [
        "print(\"End Date/Time:\",dt.datetime.now())"
      ],
      "execution_count": 54,
      "outputs": [
        {
          "output_type": "stream",
          "text": [
            "End Date/Time: 2020-03-17 22:08:26.576616\n"
          ],
          "name": "stdout"
        }
      ]
    },
    {
      "cell_type": "code",
      "metadata": {
        "id": "r7N_f9CBg2Vb",
        "colab_type": "code",
        "colab": {}
      },
      "source": [
        ""
      ],
      "execution_count": 0,
      "outputs": []
    }
  ]
}